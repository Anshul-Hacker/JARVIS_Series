{
 "cells": [
  {
   "cell_type": "markdown",
   "metadata": {},
   "source": [
    "# Pyttsx3 & SpeechRecognition\n",
    "\n",
    " "
   ]
  },
  {
   "cell_type": "code",
   "execution_count": 46,
   "metadata": {},
   "outputs": [],
   "source": [
    "import pyttsx3    # pip install pyttsx3\n",
    "import speech_recognition as sr     # pip install SpeechRecognition\n",
    "import webbrowser\n",
    "import datetime\n",
    "import wikipedia\n",
    "import smtplib\n",
    "import os"
   ]
  },
  {
   "cell_type": "code",
   "execution_count": 47,
   "metadata": {},
   "outputs": [],
   "source": [
    "engine = pyttsx3.init('sapi5')\n",
    "voices = engine.getProperty('voices')\n",
    "engine.setProperty('voice', voices[0].id)\n",
    "engine.setProperty('rate', 180)"
   ]
  },
  {
   "cell_type": "code",
   "execution_count": 48,
   "metadata": {},
   "outputs": [],
   "source": [
    "def speak(audio):\n",
    "    engine.say(audio)\n",
    "    engine.runAndWait()"
   ]
  },
  {
   "cell_type": "code",
   "execution_count": 49,
   "metadata": {},
   "outputs": [],
   "source": [
    "def wishMe():\n",
    "    hour = int(datetime.datetime.now().hour)\n",
    "    \n",
    "    if hour >= 0 and hour <12 :\n",
    "        speak(\"Good Morning Anshul\")\n",
    "    elif hour >= 12 and hour < 18 :\n",
    "        speak(\"Good Afternoon Anshul\")\n",
    "    else:\n",
    "        speak(\"Good Evening Anshul\")\n",
    "    \n",
    "    speak(\"I am JARVIS Sir, Welcome to my world, How May I Help You ?\")"
   ]
  },
  {
   "cell_type": "code",
   "execution_count": 50,
   "metadata": {},
   "outputs": [],
   "source": [
    "def takeCommand():\n",
    "    r = sr.Recognizer()\n",
    "    with sr.Microphone() as source:\n",
    "        print(\"Listening....\")\n",
    "        r.pause_threshold = 1\n",
    "        audio = r.listen(source)\n",
    "        \n",
    "    try :\n",
    "        print(\"Recognize:.....\")\n",
    "        query = r.recognize_google(audio, language='en-in')\n",
    "        print(f\"User Said:{query}\\n\")\n",
    "    \n",
    "    except Exception as e:\n",
    "        print(\"Sorry for That, Please Say That Again...\")\n",
    "        return \"None\"\n",
    "    \n",
    "    return query\n",
    "\n",
    "def email(to, content):\n",
    "    server = smtplib.SMTP(\"smtp.gmail.com\", 587)\n",
    "    server.ehlo()\n",
    "    server.starttls()\n",
    "    server.login(\"vermaanshul178@gmail.com\", \"178vermaanshul\")\n",
    "    server.sendmail(\"vermaanshul78@gmail.com\",to, content)\n",
    "    server.close()"
   ]
  },
  {
   "cell_type": "code",
   "execution_count": 54,
   "metadata": {},
   "outputs": [
    {
     "name": "stdout",
     "output_type": "stream",
     "text": [
      "Listening....\n",
      "Recognize:.....\n",
      "User Said:notepad\n",
      "\n"
     ]
    }
   ],
   "source": [
    "if __name__ == \"__main__\":\n",
    "    wishMe()\n",
    "        \n",
    "    query = takeCommand().lower()\n",
    "    \n",
    "    if \"wikipedia\" in query:\n",
    "        speak(\"Searching On Wikipedia\")\n",
    "        query = query.replace(\"wikipedia\", \"\")\n",
    "        try :\n",
    "            results = wikipedia.summary(query, sentences = 3)\n",
    "            speak(\"According to wikipedia,\")\n",
    "            print(results)\n",
    "            speak(results)\n",
    "        except:\n",
    "            speak(\"Not Found On WIkipedia\")\n",
    "            print(\"Not FOund On Wikipedia\")\n",
    "            query = takeCommand().lower()\n",
    "            \n",
    "    elif \"send mail\" in query:\n",
    "        try:\n",
    "            speak(\"what should I Say ?\")\n",
    "            content = takeCommand()\n",
    "            to = input()\n",
    "            email(to, content)\n",
    "            speak(\"Email has been sent successfully\")\n",
    "        except Exception as e :\n",
    "            print(e)\n",
    "            speak(\"Mail has not been sent\")\n",
    "            \n",
    "    elif \"the time\" in query:\n",
    "        strTime = datetime.datetime.now().strftime(\"%H:%M:%S\")\n",
    "        speak(f\"Sir, the time is {strTime}\")\n",
    "\n",
    "    elif \"google\" in query:\n",
    "        webbrowser.open(\"www.google.com\")            \n",
    "    elif \"linkedin\" in query:\n",
    "        webbrowser.open(\"www.linkedin.com\")\n",
    "            \n",
    "    elif \"youtube\" in query:\n",
    "        webbrowser.open(\"www.youtube.com\")\n",
    "        \n",
    "    elif \"chrome\" in query:\n",
    "        speak(\"Opening Chrome\")\n",
    "        os.system(\"chrome\")\n",
    "    elif \"notepad\" in query:\n",
    "        speak(\"Opening Notepad\")\n",
    "        os.system(\"notepad\")\n",
    "        \n",
    "\n",
    "    elif \"shutdown\" in query:\n",
    "        os.system(\"shutdown /s /t 2\")\n",
    "        \n",
    "    elif \"restart\" in query:\n",
    "        os.system(\"shutdown /r /t 2\")"
   ]
  },
  {
   "cell_type": "markdown",
   "metadata": {},
   "source": [
    "# Wikipedia, OS, SMTP"
   ]
  },
  {
   "cell_type": "code",
   "execution_count": 23,
   "metadata": {},
   "outputs": [],
   "source": [
    "twilio --> whatsapp, sms"
   ]
  },
  {
   "cell_type": "code",
   "execution_count": null,
   "metadata": {},
   "outputs": [],
   "source": []
  },
  {
   "cell_type": "code",
   "execution_count": null,
   "metadata": {},
   "outputs": [],
   "source": []
  },
  {
   "cell_type": "code",
   "execution_count": null,
   "metadata": {
    "scrolled": true
   },
   "outputs": [],
   "source": []
  },
  {
   "cell_type": "code",
   "execution_count": null,
   "metadata": {},
   "outputs": [],
   "source": []
  }
 ],
 "metadata": {
  "kernelspec": {
   "display_name": "Python 3",
   "language": "python",
   "name": "python3"
  },
  "language_info": {
   "codemirror_mode": {
    "name": "ipython",
    "version": 3
   },
   "file_extension": ".py",
   "mimetype": "text/x-python",
   "name": "python",
   "nbconvert_exporter": "python",
   "pygments_lexer": "ipython3",
   "version": "3.7.3"
  }
 },
 "nbformat": 4,
 "nbformat_minor": 4
}
